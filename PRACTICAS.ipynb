{
  "nbformat": 4,
  "nbformat_minor": 0,
  "metadata": {
    "colab": {
      "provenance": [],
      "authorship_tag": "ABX9TyO/sun0E0WbJRRiAtuMJBAE",
      "include_colab_link": true
    },
    "kernelspec": {
      "name": "python3",
      "display_name": "Python 3"
    },
    "language_info": {
      "name": "python"
    }
  },
  "cells": [
    {
      "cell_type": "markdown",
      "metadata": {
        "id": "view-in-github",
        "colab_type": "text"
      },
      "source": [
        "<a href=\"https://colab.research.google.com/github/AngelaMRomero/ActivityLifeCycle/blob/master/PRACTICAS.ipynb\" target=\"_parent\"><img src=\"https://colab.research.google.com/assets/colab-badge.svg\" alt=\"Open In Colab\"/></a>"
      ]
    },
    {
      "cell_type": "code",
      "execution_count": 19,
      "metadata": {
        "colab": {
          "base_uri": "https://localhost:8080/"
        },
        "id": "biaMRJ06f0ak",
        "outputId": "a64ec5ad-8040-4401-fbe2-0768734935b6"
      },
      "outputs": [
        {
          "output_type": "stream",
          "name": "stdout",
          "text": [
            "Primeras 5 filas\n",
            "        fecha producto  cantidad  precio_unitario     ciudad\n",
            "0  13/03/2024  Celular         5           953.87   Medellín\n",
            "1  23/04/2024  Teclado         6           457.36    Pereira\n",
            "2  13/08/2024  Teclado         2           155.27  Cartagena\n",
            "3  16/03/2024  Celular         6          1235.89   Medellín\n",
            "4  30/03/2024  Monitor         9          1179.29    Pereira\n"
          ]
        }
      ],
      "source": [
        "import pandas as pd\n",
        "\n",
        "df= pd.read_csv('ventas.csv', sep=(\";\"))\n",
        "\n",
        "print (\"Primeras 5 filas\")\n",
        "print (df.head())\n"
      ]
    },
    {
      "cell_type": "code",
      "source": [
        "print (\"ultimas filas\")\n",
        "print(df.tail())"
      ],
      "metadata": {
        "colab": {
          "base_uri": "https://localhost:8080/"
        },
        "id": "z_o9OvZRiQ0I",
        "outputId": "5e0627d1-c4db-421a-9f14-4b6d68474ce9"
      },
      "execution_count": 20,
      "outputs": [
        {
          "output_type": "stream",
          "name": "stdout",
          "text": [
            "ultimas filas\n",
            "         fecha     producto  cantidad  precio_unitario     ciudad\n",
            "95  26/06/2024   Smartwatch         6           176.07     Cúcuta\n",
            "96  12/04/2024        Mouse         9          1839.61  Manizales\n",
            "97  30/04/2024       Laptop         5           805.00    Popayán\n",
            "98  12/01/2024  Auriculares         8          1395.66    Pereira\n",
            "99  28/08/2024       Tablet         7          1420.98     Cúcuta\n"
          ]
        }
      ]
    },
    {
      "cell_type": "markdown",
      "source": [],
      "metadata": {
        "id": "wJsgy0yRiQIZ"
      }
    },
    {
      "cell_type": "code",
      "source": [
        "print(\"dimesiones\")\n",
        "print(df.shape)"
      ],
      "metadata": {
        "colab": {
          "base_uri": "https://localhost:8080/"
        },
        "id": "ocQ_nrMfidOc",
        "outputId": "997729cc-3c4e-4ebc-f16b-14f3d64f45e7"
      },
      "execution_count": 21,
      "outputs": [
        {
          "output_type": "stream",
          "name": "stdout",
          "text": [
            "dimesiones\n",
            "(100, 5)\n"
          ]
        }
      ]
    },
    {
      "cell_type": "code",
      "source": [
        "print(\"valores nulos\")\n",
        "print (df.isnull().sum())"
      ],
      "metadata": {
        "colab": {
          "base_uri": "https://localhost:8080/"
        },
        "id": "Tj6zKImQj91A",
        "outputId": "dff261bd-a0e1-430e-d566-f7859e04c6da"
      },
      "execution_count": 17,
      "outputs": [
        {
          "output_type": "stream",
          "name": "stdout",
          "text": [
            "valores nulos\n",
            "fecha              0\n",
            "producto           0\n",
            "cantidad           0\n",
            "precio_unitario    0\n",
            "ciudad             0\n",
            "dtype: int64\n"
          ]
        }
      ]
    },
    {
      "cell_type": "code",
      "source": [
        "df['cantidad']=pd.to_numeric(df['cantidad'], errors=\"coerce\")\n",
        "df['precio_unitario']=pd.to_numeric(df.precio_unitario, errors=\"coerce\")\n",
        "df['total']=df['cantidad']*df['precio_unitario']\n",
        "print(df.head)"
      ],
      "metadata": {
        "colab": {
          "base_uri": "https://localhost:8080/"
        },
        "id": "SBL-bWGtu_n1",
        "outputId": "b291b8df-64cc-4892-e1fa-1479c7c031c6"
      },
      "execution_count": 24,
      "outputs": [
        {
          "output_type": "stream",
          "name": "stdout",
          "text": [
            "<bound method NDFrame.head of          fecha     producto  cantidad  precio_unitario     ciudad     total\n",
            "0   13/03/2024      Celular         5           953.87   Medellín   4769.35\n",
            "1   23/04/2024      Teclado         6           457.36    Pereira   2744.16\n",
            "2   13/08/2024      Teclado         2           155.27  Cartagena    310.54\n",
            "3   16/03/2024      Celular         6          1235.89   Medellín   7415.34\n",
            "4   30/03/2024      Monitor         9          1179.29    Pereira  10613.61\n",
            "..         ...          ...       ...              ...        ...       ...\n",
            "95  26/06/2024   Smartwatch         6           176.07     Cúcuta   1056.42\n",
            "96  12/04/2024        Mouse         9          1839.61  Manizales  16556.49\n",
            "97  30/04/2024       Laptop         5           805.00    Popayán   4025.00\n",
            "98  12/01/2024  Auriculares         8          1395.66    Pereira  11165.28\n",
            "99  28/08/2024       Tablet         7          1420.98     Cúcuta   9946.86\n",
            "\n",
            "[100 rows x 6 columns]>\n"
          ]
        }
      ]
    },
    {
      "cell_type": "code",
      "source": [
        "df['fecha']=pd.to_datetime(df['fecha'], errors='coerce', dayfirst=True)\n",
        "print(df.head)"
      ],
      "metadata": {
        "colab": {
          "base_uri": "https://localhost:8080/"
        },
        "id": "Kek93peo0SYX",
        "outputId": "b604bbc7-4b37-44c0-ab20-e4b7196f72fe"
      },
      "execution_count": 28,
      "outputs": [
        {
          "output_type": "stream",
          "name": "stdout",
          "text": [
            "<bound method NDFrame.head of         fecha     producto  cantidad  precio_unitario     ciudad     total\n",
            "0  2024-03-13      Celular         5           953.87   Medellín   4769.35\n",
            "1  2024-04-23      Teclado         6           457.36    Pereira   2744.16\n",
            "2  2024-08-13      Teclado         2           155.27  Cartagena    310.54\n",
            "3  2024-03-16      Celular         6          1235.89   Medellín   7415.34\n",
            "4  2024-03-30      Monitor         9          1179.29    Pereira  10613.61\n",
            "..        ...          ...       ...              ...        ...       ...\n",
            "95 2024-06-26   Smartwatch         6           176.07     Cúcuta   1056.42\n",
            "96 2024-04-12        Mouse         9          1839.61  Manizales  16556.49\n",
            "97 2024-04-30       Laptop         5           805.00    Popayán   4025.00\n",
            "98 2024-01-12  Auriculares         8          1395.66    Pereira  11165.28\n",
            "99 2024-08-28       Tablet         7          1420.98     Cúcuta   9946.86\n",
            "\n",
            "[100 rows x 6 columns]>\n"
          ]
        }
      ]
    },
    {
      "cell_type": "code",
      "source": [
        "df['anio']=df['fecha'].dt.year\n",
        "df['mes']=df['fecha'].dt.month\n",
        "print(df.head)"
      ],
      "metadata": {
        "colab": {
          "base_uri": "https://localhost:8080/"
        },
        "id": "E4AFB2frD5dD",
        "outputId": "bf08b33d-6997-45fb-ca64-88dc6669b926"
      },
      "execution_count": 30,
      "outputs": [
        {
          "output_type": "stream",
          "name": "stdout",
          "text": [
            "<bound method NDFrame.head of         fecha     producto  cantidad  precio_unitario     ciudad     total  \\\n",
            "0  2024-03-13      Celular         5           953.87   Medellín   4769.35   \n",
            "1  2024-04-23      Teclado         6           457.36    Pereira   2744.16   \n",
            "2  2024-08-13      Teclado         2           155.27  Cartagena    310.54   \n",
            "3  2024-03-16      Celular         6          1235.89   Medellín   7415.34   \n",
            "4  2024-03-30      Monitor         9          1179.29    Pereira  10613.61   \n",
            "..        ...          ...       ...              ...        ...       ...   \n",
            "95 2024-06-26   Smartwatch         6           176.07     Cúcuta   1056.42   \n",
            "96 2024-04-12        Mouse         9          1839.61  Manizales  16556.49   \n",
            "97 2024-04-30       Laptop         5           805.00    Popayán   4025.00   \n",
            "98 2024-01-12  Auriculares         8          1395.66    Pereira  11165.28   \n",
            "99 2024-08-28       Tablet         7          1420.98     Cúcuta   9946.86   \n",
            "\n",
            "    anio  mes  \n",
            "0   2024    3  \n",
            "1   2024    4  \n",
            "2   2024    8  \n",
            "3   2024    3  \n",
            "4   2024    3  \n",
            "..   ...  ...  \n",
            "95  2024    6  \n",
            "96  2024    4  \n",
            "97  2024    4  \n",
            "98  2024    1  \n",
            "99  2024    8  \n",
            "\n",
            "[100 rows x 8 columns]>\n"
          ]
        }
      ]
    },
    {
      "cell_type": "code",
      "source": [
        "ventas_Bogotá=df[df['ciudad']=='Bogotá']\n",
        "print(ventas_Bogotá)"
      ],
      "metadata": {
        "colab": {
          "base_uri": "https://localhost:8080/"
        },
        "id": "F55ek10kG39f",
        "outputId": "01d9de85-7bba-4426-cd18-5b5ec88c4ef3"
      },
      "execution_count": 31,
      "outputs": [
        {
          "output_type": "stream",
          "name": "stdout",
          "text": [
            "        fecha producto  cantidad  precio_unitario  ciudad     total  anio  mes\n",
            "8  2024-08-01   Laptop         9          1464.38  Bogotá  13179.42  2024    8\n",
            "16 2024-04-24   Cámara         8           938.99  Bogotá   7511.92  2024    4\n",
            "20 2024-01-04    Mouse         9          1819.48  Bogotá  16375.32  2024    1\n",
            "43 2024-05-04   Laptop         5          1951.42  Bogotá   9757.10  2024    5\n",
            "66 2024-07-31    Mouse         9          1987.22  Bogotá  17884.98  2024    7\n",
            "74 2024-07-09   Cámara         1           737.78  Bogotá    737.78  2024    7\n",
            "81 2024-06-19  Monitor         7           700.23  Bogotá   4901.61  2024    6\n"
          ]
        }
      ]
    },
    {
      "cell_type": "code",
      "source": [
        "ventas_mayor1000=df[df['total']>1000]\n",
        "print(ventas_mayor1000)"
      ],
      "metadata": {
        "colab": {
          "base_uri": "https://localhost:8080/"
        },
        "id": "QklVVdl1H6yI",
        "outputId": "b3a426b5-ca0d-43f3-ffae-c02706faf6d8"
      },
      "execution_count": 34,
      "outputs": [
        {
          "output_type": "stream",
          "name": "stdout",
          "text": [
            "        fecha     producto  cantidad  precio_unitario     ciudad     total  \\\n",
            "0  2024-03-13      Celular         5           953.87   Medellín   4769.35   \n",
            "1  2024-04-23      Teclado         6           457.36    Pereira   2744.16   \n",
            "3  2024-03-16      Celular         6          1235.89   Medellín   7415.34   \n",
            "4  2024-03-30      Monitor         9          1179.29    Pereira  10613.61   \n",
            "5  2024-04-18    Impresora         3          1336.71       Cali   4010.13   \n",
            "..        ...          ...       ...              ...        ...       ...   \n",
            "95 2024-06-26   Smartwatch         6           176.07     Cúcuta   1056.42   \n",
            "96 2024-04-12        Mouse         9          1839.61  Manizales  16556.49   \n",
            "97 2024-04-30       Laptop         5           805.00    Popayán   4025.00   \n",
            "98 2024-01-12  Auriculares         8          1395.66    Pereira  11165.28   \n",
            "99 2024-08-28       Tablet         7          1420.98     Cúcuta   9946.86   \n",
            "\n",
            "    anio  mes  \n",
            "0   2024    3  \n",
            "1   2024    4  \n",
            "3   2024    3  \n",
            "4   2024    3  \n",
            "5   2024    4  \n",
            "..   ...  ...  \n",
            "95  2024    6  \n",
            "96  2024    4  \n",
            "97  2024    4  \n",
            "98  2024    1  \n",
            "99  2024    8  \n",
            "\n",
            "[90 rows x 8 columns]\n"
          ]
        }
      ]
    },
    {
      "cell_type": "code",
      "source": [
        "consulta=df.loc[df['total']>1000, ['producto', 'total']]\n",
        "print(consulta)"
      ],
      "metadata": {
        "colab": {
          "base_uri": "https://localhost:8080/"
        },
        "id": "PC6oXBiiKp4e",
        "outputId": "89a118bc-91ad-4691-d22e-eb75c97b49be"
      },
      "execution_count": 35,
      "outputs": [
        {
          "output_type": "stream",
          "name": "stdout",
          "text": [
            "       producto     total\n",
            "0       Celular   4769.35\n",
            "1       Teclado   2744.16\n",
            "3       Celular   7415.34\n",
            "4       Monitor  10613.61\n",
            "5     Impresora   4010.13\n",
            "..          ...       ...\n",
            "95   Smartwatch   1056.42\n",
            "96        Mouse  16556.49\n",
            "97       Laptop   4025.00\n",
            "98  Auriculares  11165.28\n",
            "99       Tablet   9946.86\n",
            "\n",
            "[90 rows x 2 columns]\n"
          ]
        }
      ]
    },
    {
      "cell_type": "code",
      "source": [
        "filtro=df.loc[(df['total']>1000) & (df['ciudad']=='Bogotá')]\n",
        "print(filtro)"
      ],
      "metadata": {
        "colab": {
          "base_uri": "https://localhost:8080/"
        },
        "id": "jVFsQ6H3LMUa",
        "outputId": "5b61aa9e-8930-46ce-a0ef-559275a0ab84"
      },
      "execution_count": 36,
      "outputs": [
        {
          "output_type": "stream",
          "name": "stdout",
          "text": [
            "        fecha producto  cantidad  precio_unitario  ciudad     total  anio  mes\n",
            "8  2024-08-01   Laptop         9          1464.38  Bogotá  13179.42  2024    8\n",
            "16 2024-04-24   Cámara         8           938.99  Bogotá   7511.92  2024    4\n",
            "20 2024-01-04    Mouse         9          1819.48  Bogotá  16375.32  2024    1\n",
            "43 2024-05-04   Laptop         5          1951.42  Bogotá   9757.10  2024    5\n",
            "66 2024-07-31    Mouse         9          1987.22  Bogotá  17884.98  2024    7\n",
            "81 2024-06-19  Monitor         7           700.23  Bogotá   4901.61  2024    6\n"
          ]
        }
      ]
    },
    {
      "cell_type": "code",
      "source": [],
      "metadata": {
        "id": "MaukKYF6NXgb"
      },
      "execution_count": null,
      "outputs": []
    }
  ]
}